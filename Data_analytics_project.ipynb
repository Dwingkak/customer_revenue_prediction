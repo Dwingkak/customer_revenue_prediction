{
 "cells": [
  {
   "cell_type": "code",
   "execution_count": 1,
   "metadata": {},
   "outputs": [
    {
     "name": "stdout",
     "output_type": "stream",
     "text": [
      "d:\\project\\customer_revenue_prediction\n"
     ]
    }
   ],
   "source": [
    "# Change the current working directory of the notebook\n",
    "%cd \"d:/project/customer_revenue_prediction/\""
   ]
  },
  {
   "cell_type": "markdown",
   "metadata": {},
   "source": [
    "# Introduction  \n",
    "  \n",
    "This project is aimed to analyze Google Merchandise Store customer dataset to predict the revenue gained from customer in the foreseable future. The dataset was downloaded from Kaggle which hosted a competition on November 2018. In the era of big data, extracting meaningful information from a dataset is essential to gain business insight and understanding the needs of each customers. Therefore, the available dataset can provide some information regarding factors that can contribute to the spending behaviour of a customer. The inference from the extracted information could possibly change and improve bussiness decision in strategize marketing budget and action plan to drive more revenues.\n"
   ]
  },
  {
   "cell_type": "markdown",
   "metadata": {},
   "source": [
    "# Exploration Data Analysis"
   ]
  },
  {
   "cell_type": "code",
   "execution_count": 2,
   "metadata": {},
   "outputs": [
    {
     "data": {
      "text/plain": [
       "['.git',\n",
       " '.gitattributes',\n",
       " '.gitignore',\n",
       " 'dataset',\n",
       " 'Data_analytics_project.ipynb',\n",
       " 'README.md']"
      ]
     },
     "execution_count": 2,
     "metadata": {},
     "output_type": "execute_result"
    }
   ],
   "source": [
    "import pandas as pd\n",
    "os.listdir()"
   ]
  },
  {
   "cell_type": "code",
   "execution_count": null,
   "metadata": {},
   "outputs": [],
   "source": []
  }
 ],
 "metadata": {
  "kernelspec": {
   "display_name": "Python 3",
   "language": "python",
   "name": "python3"
  },
  "language_info": {
   "codemirror_mode": {
    "name": "ipython",
    "version": 3
   },
   "file_extension": ".py",
   "mimetype": "text/x-python",
   "name": "python",
   "nbconvert_exporter": "python",
   "pygments_lexer": "ipython3",
   "version": "3.7.4"
  }
 },
 "nbformat": 4,
 "nbformat_minor": 4
}
